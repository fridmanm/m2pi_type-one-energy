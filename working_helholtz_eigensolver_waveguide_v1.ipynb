{
 "cells": [
  {
   "cell_type": "code",
   "execution_count": null,
   "id": "7af05a2a-e8b5-4395-876c-2a17a272cdea",
   "metadata": {},
   "outputs": [],
   "source": []
  },
  {
   "cell_type": "code",
   "execution_count": 1,
   "id": "b22b5f51-e623-41e8-8b68-ed0a375834a1",
   "metadata": {},
   "outputs": [],
   "source": [
    "from mpi4py import MPI\n",
    "\n",
    "import numpy as np\n",
    "\n",
    "try:\n",
    "    from petsc4py import PETSc\n",
    "\n",
    "    import dolfinx\n",
    "\n",
    "    if not dolfinx.has_petsc:\n",
    "        print(\"This demo requires DOLFINx to be compiled with PETSc enabled.\")\n",
    "        exit(0)\n",
    "    if PETSc.IntType == np.int64 and MPI.COMM_WORLD.size > 1:\n",
    "        print(\"This solver fails with PETSc and 64-bit integers because of memory errors in MUMPS.\")\n",
    "        # Note: when PETSc.IntType == np.int32, superlu_dist is used\n",
    "        # rather than MUMPS and does not trigger memory failures.\n",
    "        exit(0)\n",
    "\n",
    "    real_type = PETSc.RealType\n",
    "    scalar_type = PETSc.ScalarType\n",
    "\n",
    "except ModuleNotFoundError:\n",
    "    print(\"This demo requires petsc4py.\")\n",
    "    exit(0)\n",
    "\n",
    "import ufl\n",
    "from basix.ufl import element, mixed_element\n",
    "from dolfinx import fem, io, plot\n",
    "from dolfinx.fem.petsc import assemble_matrix\n",
    "from dolfinx.mesh import CellType, create_rectangle, exterior_facet_indices, locate_entities\n",
    "\n",
    "try:\n",
    "    import pyvista\n",
    "\n",
    "    have_pyvista = True\n",
    "except ModuleNotFoundError:\n",
    "    print(\"pyvista and pyvistaqt are required to visualise the solution\")\n",
    "    have_pyvista = False\n",
    "\n",
    "try:\n",
    "    from slepc4py import SLEPc\n",
    "except ModuleNotFoundError:\n",
    "    print(\"slepc4py is required for this demo\")\n",
    "    exit(0)"
   ]
  },
  {
   "cell_type": "code",
   "execution_count": 2,
   "id": "79400b35-8de8-43a3-b422-6d609ba54241",
   "metadata": {},
   "outputs": [],
   "source": [
    "def TMx_condition(\n",
    "    kx_d: complex, kx_v: complex, eps_d: complex, eps_v: complex, d: float, h: float\n",
    ") -> float:\n",
    "    return kx_d / eps_d * np.tan(kx_d * d) + kx_v / eps_v * np.tan(kx_v * (h - d))\n",
    "\n",
    "def TEx_condition(kx_d: complex, kx_v: complex, d: float, h: float) -> float:\n",
    "    return kx_d / np.tan(kx_d * d) + kx_v / np.tan(kx_v * (h - d))\n",
    "\n"
   ]
  },
  {
   "cell_type": "code",
   "execution_count": null,
   "id": "3627c23c-bce1-40b9-9cd6-741a81945343",
   "metadata": {},
   "outputs": [],
   "source": []
  },
  {
   "cell_type": "code",
   "execution_count": 3,
   "id": "aa7655c7-41ac-459a-843e-270a5cbc5a4e",
   "metadata": {},
   "outputs": [],
   "source": [
    "def verify_mode(\n",
    "    kz: complex,\n",
    "    w: float,\n",
    "    h: float,\n",
    "    d: float,\n",
    "    lmbd0: float,\n",
    "    eps_d: complex,\n",
    "    eps_v: complex,\n",
    "    threshold: float,\n",
    ") -> np.bool_:\n",
    "    k0 = 2 * np.pi / lmbd0\n",
    "    ky = np.pi / w  # we assume n = 1\n",
    "    kx_d_target = np.sqrt(k0**2 * eps_d - ky**2 + -(kz**2) + 0j)\n",
    "    alpha = kx_d_target**2\n",
    "    beta = alpha - k0**2 * (eps_d - eps_v)\n",
    "    kx_v = np.sqrt(beta)\n",
    "    kx_d = np.sqrt(alpha)\n",
    "    f_tm = TMx_condition(kx_d, kx_v, eps_d, eps_v, d, h)\n",
    "    f_te = TEx_condition(kx_d, kx_v, d, h)\n",
    "    return np.isclose(f_tm, 0, atol=threshold) or np.isclose(f_te, 0, atol=threshold)\n",
    "\n"
   ]
  },
  {
   "cell_type": "code",
   "execution_count": null,
   "id": "85774430-2c3a-4a31-8af4-66dbac7c8843",
   "metadata": {},
   "outputs": [],
   "source": []
  },
  {
   "cell_type": "code",
   "execution_count": null,
   "id": "d8b81bee-3cef-4aeb-8941-c62e2e149730",
   "metadata": {},
   "outputs": [],
   "source": []
  },
  {
   "cell_type": "code",
   "execution_count": null,
   "id": "f836a713-889b-41c1-a207-c752600264bf",
   "metadata": {},
   "outputs": [],
   "source": []
  },
  {
   "cell_type": "code",
   "execution_count": 4,
   "id": "c6fa4c07-b3d3-4781-9078-4e543e73d473",
   "metadata": {},
   "outputs": [],
   "source": [
    "w = 1\n",
    "h = 0.45 * w\n",
    "d = 0.5 * h\n",
    "nx = 300\n",
    "ny = int(0.4 * nx)\n",
    "\n",
    "msh = create_rectangle(\n",
    "    MPI.COMM_WORLD, np.array([[0, 0], [w, h]]), np.array([nx, ny]), CellType.quadrilateral\n",
    ")\n",
    "msh.topology.create_connectivity(msh.topology.dim - 1, msh.topology.dim)\n"
   ]
  },
  {
   "cell_type": "code",
   "execution_count": 5,
   "id": "d463bf21-1964-4d58-b395-168bb71c9c57",
   "metadata": {},
   "outputs": [],
   "source": [
    "eps_v = 1\n",
    "eps_d = 2.45\n",
    "\n",
    "\n",
    "def Omega_d(x):\n",
    "    return x[1] <= d\n",
    "\n",
    "\n",
    "def Omega_v(x):\n",
    "    return x[1] >= d\n",
    "\n",
    "\n",
    "D = fem.functionspace(msh, (\"DQ\", 0))\n",
    "eps = fem.Function(D)\n",
    "\n",
    "cells_v = locate_entities(msh, msh.topology.dim, Omega_v)\n",
    "cells_d = locate_entities(msh, msh.topology.dim, Omega_d)\n",
    "\n",
    "eps.x.array[cells_d] = np.full_like(cells_d, eps_d, dtype=scalar_type)\n",
    "eps.x.array[cells_v] = np.full_like(cells_v, eps_v, dtype=scalar_type)"
   ]
  },
  {
   "cell_type": "code",
   "execution_count": null,
   "id": "08747ede-233f-4c45-964b-a456e0b29e15",
   "metadata": {},
   "outputs": [],
   "source": []
  },
  {
   "cell_type": "code",
   "execution_count": 6,
   "id": "18c470be-b755-4a79-807b-a0405dcafc7c",
   "metadata": {},
   "outputs": [],
   "source": [
    "degree = 1\n",
    "RTCE = element(\"RTCE\", msh.basix_cell(), degree, dtype=real_type)\n",
    "Q = element(\"Lagrange\", msh.basix_cell(), degree, dtype=real_type)\n",
    "V = fem.functionspace(msh, mixed_element([RTCE, Q]))"
   ]
  },
  {
   "cell_type": "code",
   "execution_count": null,
   "id": "21a48ab8-f1d4-4d6e-884d-d6bd7a0ef966",
   "metadata": {},
   "outputs": [],
   "source": []
  },
  {
   "cell_type": "code",
   "execution_count": 7,
   "id": "beaecad2-0256-4457-9cf5-8e17214c0370",
   "metadata": {},
   "outputs": [],
   "source": [
    "lmbd0 = h / 0.2\n",
    "k0 = 2 * np.pi / lmbd0\n",
    "\n",
    "et, ez = ufl.TrialFunctions(V)\n",
    "vt, vz = ufl.TestFunctions(V)\n",
    "\n",
    "a_tt = (ufl.inner(ufl.curl(et), ufl.curl(vt)) - (k0**2) * eps * ufl.inner(et, vt)) * ufl.dx\n",
    "b_tt = ufl.inner(et, vt) * ufl.dx\n",
    "b_tz = ufl.inner(et, ufl.grad(vz)) * ufl.dx\n",
    "b_zt = ufl.inner(ufl.grad(ez), vt) * ufl.dx\n",
    "b_zz = (ufl.inner(ufl.grad(ez), ufl.grad(vz)) - (k0**2) * eps * ufl.inner(ez, vz)) * ufl.dx\n",
    "\n",
    "a = fem.form(a_tt)\n",
    "b = fem.form(b_tt + b_tz + b_zt + b_zz)"
   ]
  },
  {
   "cell_type": "code",
   "execution_count": null,
   "id": "4383138b-d242-4d83-9d4e-94e4f431a136",
   "metadata": {},
   "outputs": [],
   "source": []
  },
  {
   "cell_type": "code",
   "execution_count": 8,
   "id": "4e2cda74-a768-4d32-9ad6-7530e2df7303",
   "metadata": {},
   "outputs": [],
   "source": [
    "bc_facets = exterior_facet_indices(msh.topology)\n",
    "bc_dofs = fem.locate_dofs_topological(V, msh.topology.dim - 1, bc_facets)\n",
    "u_bc = fem.Function(V)\n",
    "with u_bc.x.petsc_vec.localForm() as loc:\n",
    "    loc.set(0)\n",
    "bc = fem.dirichletbc(u_bc, bc_dofs)\n"
   ]
  },
  {
   "cell_type": "code",
   "execution_count": null,
   "id": "19e722f0-b9e3-493a-acde-b0412cc41476",
   "metadata": {},
   "outputs": [],
   "source": []
  },
  {
   "cell_type": "code",
   "execution_count": 9,
   "id": "687c31fd-7175-4f4f-9099-9e49a8c8c361",
   "metadata": {},
   "outputs": [],
   "source": [
    "A = assemble_matrix(a, bcs=[bc])\n",
    "A.assemble()\n",
    "B = assemble_matrix(b, bcs=[bc])\n",
    "B.assemble()"
   ]
  },
  {
   "cell_type": "code",
   "execution_count": null,
   "id": "f98b3ba3-98ac-44fb-95f8-7aa073feb675",
   "metadata": {},
   "outputs": [],
   "source": []
  },
  {
   "cell_type": "code",
   "execution_count": 10,
   "id": "1ffac0b8-1eba-4774-b8f0-8d6029ac564e",
   "metadata": {},
   "outputs": [],
   "source": [
    "eps = SLEPc.EPS().create(msh.comm)\n"
   ]
  },
  {
   "cell_type": "code",
   "execution_count": null,
   "id": "e2bce6ec-8c1c-402c-b9a4-c81e2f3d4576",
   "metadata": {},
   "outputs": [],
   "source": []
  },
  {
   "cell_type": "code",
   "execution_count": 11,
   "id": "22c9b4c9-b9fb-4a67-a95f-4c84122e42e0",
   "metadata": {},
   "outputs": [],
   "source": [
    "eps.setOperators(A, B)"
   ]
  },
  {
   "cell_type": "code",
   "execution_count": null,
   "id": "446dbfba-84fb-4a52-a09f-9e2cfb9b20ca",
   "metadata": {},
   "outputs": [],
   "source": []
  },
  {
   "cell_type": "code",
   "execution_count": 12,
   "id": "e5ed858b-0f99-4ace-a16b-b8e0748b38b9",
   "metadata": {},
   "outputs": [],
   "source": [
    "eps.setProblemType(SLEPc.EPS.ProblemType.GNHEP)"
   ]
  },
  {
   "cell_type": "code",
   "execution_count": null,
   "id": "aef0591d-e1f9-4c0f-8fa3-14be9983ab42",
   "metadata": {},
   "outputs": [],
   "source": []
  },
  {
   "cell_type": "code",
   "execution_count": 13,
   "id": "89c022a4-7f49-40ba-a582-92025fd41645",
   "metadata": {},
   "outputs": [],
   "source": [
    "\n",
    "\n",
    "tol = 1e-9\n",
    "#eps.setTolerances(tol=tol)\n",
    "\n"
   ]
  },
  {
   "cell_type": "code",
   "execution_count": null,
   "id": "38a2a1ff-12ac-49ae-aafa-8f5a79efe632",
   "metadata": {},
   "outputs": [],
   "source": []
  },
  {
   "cell_type": "code",
   "execution_count": 14,
   "id": "0c393967-6385-4b3b-9c62-358544cdcf92",
   "metadata": {},
   "outputs": [],
   "source": [
    "eps.setType(SLEPc.EPS.Type.KRYLOVSCHUR)"
   ]
  },
  {
   "cell_type": "code",
   "execution_count": null,
   "id": "464290ca-7d44-4cf8-8f66-1c9bcabf9847",
   "metadata": {},
   "outputs": [],
   "source": []
  },
  {
   "cell_type": "code",
   "execution_count": 15,
   "id": "0cfc3b50-918f-423f-87e0-29ecabcb65e4",
   "metadata": {},
   "outputs": [],
   "source": [
    "# Get ST context from eps\n",
    "st = eps.getST()\n",
    "\n",
    "# Set shift-and-invert transformation\n",
    "st.setType(SLEPc.ST.Type.SINVERT)"
   ]
  },
  {
   "cell_type": "code",
   "execution_count": null,
   "id": "7e4abb51-ea71-44fa-93d1-0a15cf62f15b",
   "metadata": {},
   "outputs": [],
   "source": []
  },
  {
   "cell_type": "code",
   "execution_count": 16,
   "id": "c3928e54-9059-4e67-b20a-4fe3bb6cd4d1",
   "metadata": {},
   "outputs": [],
   "source": [
    "eps.setWhichEigenpairs(SLEPc.EPS.Which.TARGET_REAL)"
   ]
  },
  {
   "cell_type": "code",
   "execution_count": null,
   "id": "a71abfea-31d0-4d0f-998d-52e40a9b53ce",
   "metadata": {},
   "outputs": [],
   "source": []
  },
  {
   "cell_type": "code",
   "execution_count": 17,
   "id": "6804afd3-1ff5-46af-a5d0-385e88ede2df",
   "metadata": {},
   "outputs": [],
   "source": [
    "eps.setTarget(-((0.5 * k0) ** 2))"
   ]
  },
  {
   "cell_type": "code",
   "execution_count": null,
   "id": "d586d28c-b7d5-4264-b42a-f817e9e7e5fd",
   "metadata": {},
   "outputs": [],
   "source": []
  },
  {
   "cell_type": "code",
   "execution_count": 18,
   "id": "a1a3d42b-0c77-4c25-b064-0b3237fca66d",
   "metadata": {},
   "outputs": [],
   "source": [
    "eps.setDimensions(nev=1)"
   ]
  },
  {
   "cell_type": "code",
   "execution_count": null,
   "id": "5cc1ee52-8172-4dd2-92a1-be48ecd31ac4",
   "metadata": {},
   "outputs": [],
   "source": []
  },
  {
   "cell_type": "code",
   "execution_count": 19,
   "id": "5dbbf00d-707d-48b0-9b83-41c21d285016",
   "metadata": {
    "scrolled": true
   },
   "outputs": [
    {
     "name": "stdout",
     "output_type": "stream",
     "text": [
      "EPS Object: 1 MPI process\n",
      "  type: krylovschur\n",
      "    50% of basis vectors kept after restart\n",
      "    using the locking variant\n",
      "  problem type: generalized non-symmetric eigenvalue problem\n",
      "  selected portion of the spectrum: closest to target: -1.94955 (along the real axis)\n",
      "  number of eigenvalues (nev): 1\n",
      "  number of column vectors (ncv): 16\n",
      "  maximum dimension of projected problem (mpd): 16\n",
      "  maximum number of iterations: 13605\n",
      "  tolerance: 1e-08\n",
      "  convergence test: relative to the eigenvalue\n",
      "BV Object: 1 MPI process\n",
      "  type: mat\n",
      "  17 columns of global length 108841\n",
      "  vector orthogonalization method: classical Gram-Schmidt\n",
      "  orthogonalization refinement: if needed (eta: 0.7071)\n",
      "  block orthogonalization method: GS\n",
      "  doing matmult as a single matrix-matrix product\n",
      "DS Object: 1 MPI process\n",
      "  type: nhep\n",
      "ST Object: 1 MPI process\n",
      "  type: sinvert\n",
      "  shift: -1.94955\n",
      "  number of matrices: 2\n",
      "  nonzero pattern of the matrices: UNKNOWN\n",
      "  KSP Object: (st_) 1 MPI process\n",
      "    type: preonly\n",
      "    maximum iterations=10000, initial guess is zero\n",
      "    tolerances: relative=1e-08, absolute=1e-50, divergence=10000.\n",
      "    left preconditioning\n",
      "    using NONE norm type for convergence test\n",
      "  PC Object: (st_) 1 MPI process\n",
      "    type: lu\n",
      "      out-of-place factorization\n",
      "      tolerance for zero pivot 2.22045e-14\n",
      "      matrix ordering: nd\n",
      "      factor fill ratio given 5., needed 7.72513\n",
      "        Factored matrix follows:\n",
      "          Mat Object: (st_) 1 MPI process\n",
      "            type: seqaij\n",
      "            rows=108841, cols=108841\n",
      "            package used to perform factorization: petsc\n",
      "            total: nonzeros=13096891, allocated nonzeros=13096891\n",
      "              using I-node routines: found 86045 nodes, limit used is 5\n",
      "    linear system matrix = precond matrix:\n",
      "    Mat Object: (st_) 1 MPI process\n",
      "      type: seqaij\n",
      "      rows=108841, cols=108841\n",
      "      total: nonzeros=1695361, allocated nonzeros=1695361\n",
      "      total number of mallocs used during MatSetValues calls=0\n",
      "        not using I-node routines\n",
      " All requested eigenvalues computed up to the required tolerance:\n",
      "     -1.69240\n",
      "\n"
     ]
    }
   ],
   "source": [
    "eps.solve()\n",
    "eps.view()\n",
    "eps.errorView()\n"
   ]
  },
  {
   "cell_type": "code",
   "execution_count": null,
   "id": "d4dbce45-d7ef-46cd-a2be-dd0dcc0a2fe1",
   "metadata": {},
   "outputs": [],
   "source": []
  },
  {
   "cell_type": "code",
   "execution_count": 40,
   "id": "890461fc-e1b4-430f-92a5-0040dceab67b",
   "metadata": {},
   "outputs": [],
   "source": [
    "# Save the kz\n",
    "vals = [(i, np.sqrt(-eps.getEigenvalue(i))) for i in range(eps.getConverged())]\n",
    "\n",
    "# Sort kz by real part\n",
    "vals.sort(key=lambda x: x[1].real)\n",
    "\n",
    "eh = fem.Function(V)\n",
    "\n",
    "kz_list = []\n",
    "\n",
    "for i, kz in vals:\n",
    "    # Save eigenvector in eh\n",
    "    eps.getEigenpair(i, eh.x.petsc_vec)\n",
    "\n",
    "    # Compute error for i-th eigenvalue\n",
    "    error = eps.computeError(i, SLEPc.EPS.ErrorType.RELATIVE)\n",
    "\n",
    "    # Verify, save and visualize solution\n",
    "    if error < tol and np.isclose(kz.imag, 0, atol=tol):\n",
    "        kz_list.append(kz)\n",
    "\n",
    "        # Verify if kz is consistent with the analytical equations\n",
    "        assert verify_mode(kz, w, h, d, lmbd0, eps_d, eps_v, threshold=1e-4)\n",
    "\n",
    "        print(f\"eigenvalue: {-(kz**2)}\")\n",
    "        print(f\"kz: {kz}\")\n",
    "        print(f\"kz/k0: {kz / k0}\")\n",
    "\n",
    "        eh.x.scatter_forward()\n",
    "\n",
    "        eth, ezh = eh.split()\n",
    "        eth = eh.sub(0).collapse()\n",
    "        ez = eh.sub(1).collapse()\n",
    "\n",
    "        # Transform eth, ezh into Et and Ez\n",
    "        eth.x.array[:] = eth.x.array[:] / kz\n",
    "        ezh.x.array[:] = ezh.x.array[:] * 1j\n",
    "\n",
    "        gdim = msh.geometry.dim\n",
    "        V_dg = fem.functionspace(msh, (\"DQ\", degree, (gdim,)))\n",
    "        Et_dg = fem.Function(V_dg)\n",
    "        Et_dg.interpolate(eth)\n",
    "\n",
    "        # Save solutions\n",
    "        with io.VTXWriter(msh.comm, f\"sols/Et_{i}.bp\", Et_dg) as f:\n",
    "            f.write(0.0)\n",
    "\n",
    "        with io.VTXWriter(msh.comm, f\"sols/Ez_{i}.bp\", ezh) as f:\n",
    "            f.write(0.0)\n",
    "\n",
    "        # Visualize solutions with Pyvista\n",
    "        if have_pyvista:\n",
    "            V_cells, V_types, V_x = plot.vtk_mesh(V_dg)\n",
    "            V_grid = pyvista.UnstructuredGrid(V_cells, V_types, V_x)\n",
    "            Et_values = np.zeros((V_x.shape[0], 3), dtype=np.float64)\n",
    "            Et_values[:, : msh.topology.dim] = Et_dg.x.array.reshape(\n",
    "                V_x.shape[0], msh.topology.dim\n",
    "            ).real\n",
    "\n",
    "            V_grid.point_data[\"u\"] = Et_values\n",
    "\n",
    "            plotter = pyvista.Plotter()\n",
    "            plotter.add_mesh(V_grid.copy(), show_edges=False)\n",
    "            plotter.view_xy()\n",
    "            plotter.link_views()\n",
    "            if not pyvista.OFF_SCREEN:\n",
    "                plotter.show()\n",
    "            else:\n",
    "                pyvista.start_xvfb()\n",
    "                plotter.screenshot(\"Et.png\", window_size=[400, 400])\n",
    "\n",
    "        if have_pyvista:\n",
    "            V_lagr, lagr_dofs = V.sub(1).collapse()\n",
    "            V_cells, V_types, V_x = plot.vtk_mesh(V_lagr)\n",
    "            V_grid = pyvista.UnstructuredGrid(V_cells, V_types, V_x)\n",
    "            V_grid.point_data[\"u\"] = ezh.x.array.real[lagr_dofs]\n",
    "            plotter = pyvista.Plotter()\n",
    "            plotter.add_mesh(V_grid.copy(), show_edges=False)\n",
    "            plotter.view_xy()\n",
    "            plotter.link_views()\n",
    "            if not pyvista.OFF_SCREEN:\n",
    "                plotter.show()\n",
    "            else:\n",
    "                pyvista.start_xvfb()\n",
    "                plotter.screenshot(\"Ez.png\", window_size=[400, 400])\n"
   ]
  },
  {
   "cell_type": "code",
   "execution_count": null,
   "id": "59763891-15b0-4c37-81b6-6cc3fb1fc296",
   "metadata": {},
   "outputs": [],
   "source": []
  },
  {
   "cell_type": "code",
   "execution_count": null,
   "id": "c9a0b58a-af34-471a-861a-928ee133f580",
   "metadata": {},
   "outputs": [],
   "source": []
  },
  {
   "cell_type": "code",
   "execution_count": null,
   "id": "0b3abc67-2b86-4d84-9c7f-04bbb1a72e7c",
   "metadata": {},
   "outputs": [],
   "source": []
  },
  {
   "cell_type": "code",
   "execution_count": null,
   "id": "700dc98e-5c6e-484a-9adf-359d2e9af58e",
   "metadata": {},
   "outputs": [],
   "source": []
  },
  {
   "cell_type": "code",
   "execution_count": null,
   "id": "457c8ee2-2c4f-4dd8-bb25-f61b726738fe",
   "metadata": {},
   "outputs": [],
   "source": []
  }
 ],
 "metadata": {
  "kernelspec": {
   "display_name": "Python [conda env:fenicsx-env]",
   "language": "python",
   "name": "conda-env-fenicsx-env-py"
  },
  "language_info": {
   "codemirror_mode": {
    "name": "ipython",
    "version": 3
   },
   "file_extension": ".py",
   "mimetype": "text/x-python",
   "name": "python",
   "nbconvert_exporter": "python",
   "pygments_lexer": "ipython3",
   "version": "3.13.3"
  }
 },
 "nbformat": 4,
 "nbformat_minor": 5
}
